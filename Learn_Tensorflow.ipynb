{
  "nbformat": 4,
  "nbformat_minor": 0,
  "metadata": {
    "colab": {
      "name": "Learn Tensorflow.ipynb",
      "provenance": [],
      "include_colab_link": true
    },
    "kernelspec": {
      "name": "python3",
      "display_name": "Python 3"
    }
  },
  "cells": [
    {
      "cell_type": "markdown",
      "metadata": {
        "id": "view-in-github",
        "colab_type": "text"
      },
      "source": [
        "<a href=\"https://colab.research.google.com/github/t2wain/colab/blob/master/Learn_Tensorflow.ipynb\" target=\"_parent\"><img src=\"https://colab.research.google.com/assets/colab-badge.svg\" alt=\"Open In Colab\"/></a>"
      ]
    },
    {
      "cell_type": "code",
      "metadata": {
        "id": "JZxxx_18Ajoq",
        "colab_type": "code",
        "colab": {}
      },
      "source": [
        "import numpy as np\n",
        "import tensorflow as tf\n",
        "import matplotlib.pyplot as plt\n",
        "from sklearn.model_selection import train_test_split\n",
        "import tensorflow.keras as keras"
      ],
      "execution_count": 0,
      "outputs": []
    },
    {
      "cell_type": "code",
      "metadata": {
        "id": "tMUxamqgAv49",
        "colab_type": "code",
        "outputId": "52a3ade6-b2c6-4efd-85c1-c6ba6c6609bc",
        "colab": {
          "base_uri": "https://localhost:8080/",
          "height": 34
        }
      },
      "source": [
        "print (tf.__version__)"
      ],
      "execution_count": 0,
      "outputs": [
        {
          "output_type": "stream",
          "text": [
            "1.15.0-rc3\n"
          ],
          "name": "stdout"
        }
      ]
    },
    {
      "cell_type": "markdown",
      "metadata": {
        "id": "1BXxCLplkwxZ",
        "colab_type": "text"
      },
      "source": [
        "# Tensor properties"
      ]
    },
    {
      "cell_type": "code",
      "metadata": {
        "id": "VLD9EWLSAzfV",
        "colab_type": "code",
        "colab": {}
      },
      "source": [
        "m1 = tf.constant([[1., 2.]])\n",
        "\n",
        "m2 = tf.constant([[1],\n",
        "                  [2]])\n",
        "\n",
        "m3 = tf.constant([ [[1,2],\n",
        "                    [3,4],\n",
        "                    [5,6]],\n",
        "                  \n",
        "                    [[7,8],\n",
        "                    [9,10],\n",
        "                    [11,12]] ])\n",
        "\n",
        "m4 = tf.constant(10.)\n",
        "\n",
        "m5 = tf.constant([1., 2., 3.])"
      ],
      "execution_count": 0,
      "outputs": []
    },
    {
      "cell_type": "code",
      "metadata": {
        "id": "2zyoteGUBoXc",
        "colab_type": "code",
        "outputId": "46505ada-e4ea-49e9-99c3-d167c0874728",
        "colab": {
          "base_uri": "https://localhost:8080/",
          "height": 118
        }
      },
      "source": [
        "print('m1:', m1)\n",
        "print('m2:', m2)\n",
        "print('m3:', m3)\n",
        "print('m4', m4)\n",
        "print('m5', m5)\n",
        "print('m1 shape:', m1.shape)"
      ],
      "execution_count": 0,
      "outputs": [
        {
          "output_type": "stream",
          "text": [
            "m1: Tensor(\"Const:0\", shape=(1, 2), dtype=float32)\n",
            "m2: Tensor(\"Const_1:0\", shape=(2, 1), dtype=int32)\n",
            "m3: Tensor(\"Const_2:0\", shape=(2, 3, 2), dtype=int32)\n",
            "m4 Tensor(\"Const_3:0\", shape=(), dtype=float32)\n",
            "m5 Tensor(\"Const_4:0\", shape=(3,), dtype=float32)\n",
            "m1 shape: (1, 2)\n"
          ],
          "name": "stdout"
        }
      ]
    },
    {
      "cell_type": "code",
      "metadata": {
        "id": "WxOFrfi8dGF4",
        "colab_type": "code",
        "outputId": "64c9c121-ba67-4739-8b1b-814d28e5034d",
        "colab": {
          "base_uri": "https://localhost:8080/",
          "height": 101
        }
      },
      "source": [
        "with tf.Session() as sess:\n",
        "  print('m1 rank:', tf.rank(m1).eval())\n",
        "  print('m2 rank:', tf.rank(m2).eval())\n",
        "  print('m3 rank:', tf.rank(m3).eval())\n",
        "  print('m4 rank:', tf.rank(m4).eval())\n",
        "  print('m5 rank:', tf.rank(m5).eval())"
      ],
      "execution_count": 0,
      "outputs": [
        {
          "output_type": "stream",
          "text": [
            "m1 rank: 2\n",
            "m2 rank: 2\n",
            "m3 rank: 3\n",
            "m4 rank: 0\n",
            "m5 rank: 1\n"
          ],
          "name": "stdout"
        }
      ]
    },
    {
      "cell_type": "code",
      "metadata": {
        "id": "bR7EbbLtBvwf",
        "colab_type": "code",
        "colab": {}
      },
      "source": [
        "t1 = tf.zeros((1,2), tf.float32, 't1')\n",
        "t2 = tf.ones((2,1), tf.int32, 't2')\n",
        "t3 = tf.ones((2,3,2), tf.int32, 't3')"
      ],
      "execution_count": 0,
      "outputs": []
    },
    {
      "cell_type": "code",
      "metadata": {
        "id": "ZnSg28fUDQrA",
        "colab_type": "code",
        "outputId": "083aec9d-0fe7-47b6-ad22-839f3133e030",
        "colab": {
          "base_uri": "https://localhost:8080/",
          "height": 67
        }
      },
      "source": [
        "print('t1:', t1)\n",
        "print('t2:', t2)\n",
        "print('t3:', t3)"
      ],
      "execution_count": 0,
      "outputs": [
        {
          "output_type": "stream",
          "text": [
            "t1: Tensor(\"t1:0\", shape=(1, 2), dtype=float32)\n",
            "t2: Tensor(\"t2:0\", shape=(2, 1), dtype=int32)\n",
            "t3: Tensor(\"t3:0\", shape=(2, 3, 2), dtype=int32)\n"
          ],
          "name": "stdout"
        }
      ]
    },
    {
      "cell_type": "code",
      "metadata": {
        "id": "axYfgqj3Drlj",
        "colab_type": "code",
        "colab": {}
      },
      "source": [
        "x = tf.constant([1., 2.])\n",
        "y = tf.constant([3., 4.])"
      ],
      "execution_count": 0,
      "outputs": []
    },
    {
      "cell_type": "code",
      "metadata": {
        "id": "8wqw98EMEbnQ",
        "colab_type": "code",
        "colab": {}
      },
      "source": [
        "x_neg = tf.negative(x)\n",
        "z = tf.add(x,y)\n",
        "z2 = tf.subtract(y,x)"
      ],
      "execution_count": 0,
      "outputs": []
    },
    {
      "cell_type": "code",
      "metadata": {
        "id": "JCCE02olsOtp",
        "colab_type": "code",
        "outputId": "5bb9c87c-6cac-4b7a-eb79-ff456a1fb20e",
        "colab": {
          "base_uri": "https://localhost:8080/",
          "height": 34
        }
      },
      "source": [
        "print(z)"
      ],
      "execution_count": 0,
      "outputs": [
        {
          "output_type": "stream",
          "text": [
            "Tensor(\"Add:0\", shape=(2,), dtype=float32)\n"
          ],
          "name": "stdout"
        }
      ]
    },
    {
      "cell_type": "code",
      "metadata": {
        "id": "7mtS6s93Eeky",
        "colab_type": "code",
        "outputId": "9f28f00b-2216-4985-c4cc-4cd654ec98a8",
        "colab": {
          "base_uri": "https://localhost:8080/",
          "height": 34
        }
      },
      "source": [
        "with tf.Session() as sess:\n",
        "  resultz = sess.run(z)\n",
        "  resultz2 = sess.run(z2)\n",
        "\n",
        "type(resultz)"
      ],
      "execution_count": 0,
      "outputs": [
        {
          "output_type": "execute_result",
          "data": {
            "text/plain": [
              "numpy.ndarray"
            ]
          },
          "metadata": {
            "tags": []
          },
          "execution_count": 11
        }
      ]
    },
    {
      "cell_type": "code",
      "metadata": {
        "id": "r8swmueJEfzz",
        "colab_type": "code",
        "outputId": "0af7bbff-a214-4015-d94f-fe6fc77ad931",
        "colab": {
          "base_uri": "https://localhost:8080/",
          "height": 50
        }
      },
      "source": [
        "print(resultz)\n",
        "print(resultz2)"
      ],
      "execution_count": 0,
      "outputs": [
        {
          "output_type": "stream",
          "text": [
            "[4. 6.]\n",
            "[2. 2.]\n"
          ],
          "name": "stdout"
        }
      ]
    },
    {
      "cell_type": "code",
      "metadata": {
        "id": "pv-Kk3FRF_gX",
        "colab_type": "code",
        "colab": {}
      },
      "source": [
        "with tf.Session() as sess:\n",
        "  resultz = z.eval()\n",
        "  resultz2 = z2.eval()"
      ],
      "execution_count": 0,
      "outputs": []
    },
    {
      "cell_type": "code",
      "metadata": {
        "id": "4Ehj895FGVv7",
        "colab_type": "code",
        "outputId": "142488bb-afd4-426b-cd95-d27630788b41",
        "colab": {
          "base_uri": "https://localhost:8080/",
          "height": 50
        }
      },
      "source": [
        "print(resultz)\n",
        "print(resultz2)"
      ],
      "execution_count": 0,
      "outputs": [
        {
          "output_type": "stream",
          "text": [
            "[4. 6.]\n",
            "[2. 2.]\n"
          ],
          "name": "stdout"
        }
      ]
    },
    {
      "cell_type": "code",
      "metadata": {
        "id": "2AI9bX_UGYWV",
        "colab_type": "code",
        "outputId": "987c4ea2-ba25-4398-be41-3fdfa8f3a35b",
        "colab": {
          "base_uri": "https://localhost:8080/",
          "height": 50
        }
      },
      "source": [
        "sess = tf.InteractiveSession()\n",
        "resultz = z.eval()\n",
        "resultz2 = z2.eval()\n",
        "sess.close()\n",
        "\n",
        "print(resultz)\n",
        "print(resultz2)"
      ],
      "execution_count": 0,
      "outputs": [
        {
          "output_type": "stream",
          "text": [
            "[4. 6.]\n",
            "[2. 2.]\n"
          ],
          "name": "stdout"
        }
      ]
    },
    {
      "cell_type": "markdown",
      "metadata": {
        "id": "QYtWwoTYk95b",
        "colab_type": "text"
      },
      "source": [
        "# Example 1"
      ]
    },
    {
      "cell_type": "code",
      "metadata": {
        "id": "r4goj1XNGyYA",
        "colab_type": "code",
        "outputId": "92614b22-fd38-412b-db2f-e9baccf15c18",
        "colab": {
          "base_uri": "https://localhost:8080/",
          "height": 50
        }
      },
      "source": [
        "def ex1():\n",
        "  sess = tf.InteractiveSession()\n",
        "  raw_data = [1., 2., 8., -1., 0., 5.5, 6., 13]\n",
        "\n",
        "  spikes = tf.Variable([False] * len(raw_data), name='spikes')\n",
        "  spikes.initializer.run() # intial array to False\n",
        "\n",
        "  for i in range(1, len(raw_data)):\n",
        "    if raw_data[i] - raw_data[i-1] > 5:\n",
        "      spikes_val = spikes.eval() # retrieve array from variable\n",
        "      spikes_val[i] = True # set the data\n",
        "      updater = tf.assign(spikes, spikes_val) # assign array back to variable\n",
        "      result = updater.eval() # run updater\n",
        "\n",
        "  sess.close()\n",
        "\n",
        "  print(result)\n",
        "  print(updater)\n",
        "\n",
        "ex1()"
      ],
      "execution_count": 0,
      "outputs": [
        {
          "output_type": "stream",
          "text": [
            "[False False  True False False  True False  True]\n",
            "Tensor(\"Assign_2:0\", shape=(8,), dtype=bool_ref)\n"
          ],
          "name": "stdout"
        }
      ]
    },
    {
      "cell_type": "markdown",
      "metadata": {
        "id": "P1_fJFkGlOh9",
        "colab_type": "text"
      },
      "source": [
        "# Example 2"
      ]
    },
    {
      "cell_type": "code",
      "metadata": {
        "id": "dvG-CpbchYa0",
        "colab_type": "code",
        "colab": {}
      },
      "source": [
        "def ex2():\n",
        "  raw_data = np.random.normal(10, 1, 100)\n",
        "\n",
        "  alpha = tf.constant(0.05)\n",
        "  curr_value = tf.placeholder(tf.float32) # input\n",
        "  prev_avg = tf.Variable(0.)\n",
        "\n",
        "  update_avg = alpha * curr_value + (1 - alpha) * prev_avg # operation\n",
        "\n",
        "  init = tf.global_variables_initializer()\n",
        "\n",
        "  with tf.Session() as sess:\n",
        "    sess.run(init)\n",
        "    for i in range(len(raw_data)):\n",
        "      curr_avg = sess.run(update_avg, feed_dict={curr_value: raw_data[i]}) # run operation\n",
        "      sess.run(tf.assign(prev_avg, curr_avg))\n",
        "      print(raw_data[i], curr_avg)\n",
        "\n",
        "ex2()"
      ],
      "execution_count": 0,
      "outputs": []
    },
    {
      "cell_type": "markdown",
      "metadata": {
        "id": "v21EDLXTlRx0",
        "colab_type": "text"
      },
      "source": [
        "# Example 3"
      ]
    },
    {
      "cell_type": "code",
      "metadata": {
        "id": "R4nxEs9Gn6Ap",
        "colab_type": "code",
        "outputId": "dcc7ffc6-4a2c-4cf9-9385-5a654482c4c4",
        "colab": {
          "base_uri": "https://localhost:8080/",
          "height": 269
        }
      },
      "source": [
        "def ex3():\n",
        "  learning_rate = 0.01\n",
        "  training_epochs = 100\n",
        "\n",
        "  # setup sample training data\n",
        "  x_train = np.linspace(-1, 1, 101)\n",
        "  y_train = 2 * x_train + np.random.randn(*x_train.shape) * 0.33 # include noise\n",
        "\n",
        "  # setup tensorflow graph\n",
        "  X = tf.placeholder(tf.float32)\n",
        "  Y = tf.placeholder(tf.float32)\n",
        "\n",
        "  def model(X, w):\n",
        "    return tf.multiply(X, w) # simple linear model\n",
        "\n",
        "  w = tf.Variable(0.0, name=\"weights\")\n",
        "  y_model = model(X, w)\n",
        "  cost = tf.square(Y-y_model)\n",
        "\n",
        "  train_op = tf.train.GradientDescentOptimizer(learning_rate).minimize(cost)\n",
        "\n",
        "  with tf.Session() as sess:\n",
        "    init = tf.global_variables_initializer()\n",
        "    sess.run(init)\n",
        "    for epoch in range(training_epochs):\n",
        "      for (x, y) in zip(x_train, y_train):\n",
        "        sess.run(train_op, feed_dict={X: x, Y: y}) # training\n",
        "        w_val = sess.run(w) # model parameter result\n",
        "\n",
        "  plt.scatter(x_train, y_train)\n",
        "\n",
        "  y_learned = x_train*w_val\n",
        "\n",
        "  plt.plot(x_train, y_learned, 'r')\n",
        "  plt.show()\n",
        "\n",
        "ex3()"
      ],
      "execution_count": 0,
      "outputs": [
        {
          "output_type": "display_data",
          "data": {
            "image/png": "[encoded data removed]",
            "text/plain": [
              "<Figure size 432x288 with 1 Axes>"
            ]
          },
          "metadata": {
            "tags": []
          }
        }
      ]
    },
    {
      "cell_type": "markdown",
      "metadata": {
        "id": "sCf0ke2ElVnF",
        "colab_type": "text"
      },
      "source": [
        "# Example 4"
      ]
    },
    {
      "cell_type": "code",
      "metadata": {
        "id": "ZSmcBydR3XR3",
        "colab_type": "code",
        "outputId": "389f5827-6323-494b-83ae-a769ac55fdf6",
        "colab": {
          "base_uri": "https://localhost:8080/",
          "height": 356
        }
      },
      "source": [
        "def ex4():\n",
        "\n",
        "  # model hyper-parameters\n",
        "  learning_rate = 0.01\n",
        "  training_epochs = 40\n",
        "\n",
        "  # generate sample data\n",
        "  trX = np.linspace(-1, 1, 101)\n",
        "\n",
        "  num_coeffs = 6\n",
        "  trY_coeffs = [1, 2, 3, 4, 5, 6]\n",
        "  trY = 0\n",
        "  for i in range(num_coeffs):\n",
        "    trY += trY_coeffs[i] * np.power(trX, i)\n",
        "\n",
        "  trY += np.random.randn(*trX.shape) * 1.5 # add noise\n",
        "\n",
        "  # setup tensorflow graph\n",
        "  X = tf.placeholder(tf.float32)\n",
        "  Y = tf.placeholder(tf.float32)\n",
        "\n",
        "  def model(X, w): # polynominal model\n",
        "    terms = []\n",
        "    for i in range(num_coeffs):\n",
        "      term = tf.multiply(w[i], tf.pow(X, i))\n",
        "      terms.append(term)\n",
        "    return tf.add_n(terms)\n",
        "\n",
        "  w = tf.Variable([0.] * num_coeffs, name=\"parameters\")\n",
        "  y_model = model(X, w)\n",
        "\n",
        "  cost = (tf.pow(Y-y_model, 2))\n",
        "  train_op = tf.train.GradientDescentOptimizer(learning_rate).minimize(cost)\n",
        "\n",
        "  with tf.Session() as sess:\n",
        "    init = tf.global_variables_initializer()\n",
        "    sess.run(init)\n",
        "    for epoch in range(training_epochs):\n",
        "      for (x, y) in zip(trX, trY):\n",
        "        sess.run(train_op, feed_dict={X: x, Y: y}) # training\n",
        "      w_val = sess.run(w) # model parameter result\n",
        "\n",
        "  print('calculated polynomial coeffients:', w_val)\n",
        "  plt.scatter(trX, trY) # input data\n",
        "  trY2 = 0\n",
        "  for i in range(num_coeffs):\n",
        "    trY2 += w_val[i] * np.power(trX, i) # predicted output\n",
        "\n",
        "  plt.plot(trX, trY2, 'r') # predicted output\n",
        "  plt.show()\n",
        "\n",
        "ex4()"
      ],
      "execution_count": 0,
      "outputs": [
        {
          "output_type": "stream",
          "text": [
            "WARNING:tensorflow:From /usr/local/lib/python3.6/dist-packages/tensorflow_core/python/ops/math_grad.py:1375: where (from tensorflow.python.ops.array_ops) is deprecated and will be removed in a future version.\n",
            "Instructions for updating:\n",
            "Use tf.where in 2.0, which has the same broadcast rule as np.where\n",
            "calculated polynomial coeffients: [0.7462516 2.260809  4.1469126 4.819354  3.873754  4.696718 ]\n"
          ],
          "name": "stdout"
        },
        {
          "output_type": "display_data",
          "data": {
            "image/png": "[encoded data removed]",
            "text/plain": [
              "<Figure size 432x288 with 1 Axes>"
            ]
          },
          "metadata": {
            "tags": []
          }
        }
      ]
    },
    {
      "cell_type": "markdown",
      "metadata": {
        "id": "nKis8SwplZTP",
        "colab_type": "text"
      },
      "source": [
        "# Example 5"
      ]
    },
    {
      "cell_type": "code",
      "metadata": {
        "id": "10ExsB6CTNtY",
        "colab_type": "code",
        "colab": {}
      },
      "source": [
        "def ex5(reg_lambda_steps = [0., 0.05, 0.20]):\n",
        "  learning_rate = 0.001\n",
        "  training_epochs = 1000\n",
        "  reg_lambda = 0.\n",
        "  \n",
        "  x_dataset = np.linspace(-1, 1, 100)\n",
        "\n",
        "  num_coeffs = 9\n",
        "  y_dataset_params = [0.] * num_coeffs\n",
        "  y_dataset_params[2] = 1\n",
        "  y_dataset = 0\n",
        "  for i in range(num_coeffs):\n",
        "    y_dataset += y_dataset_params[i] * np.power(x_dataset, i)\n",
        "  y_dataset += np.random.randn(*x_dataset.shape) * 0.3 # add noise\n",
        "\n",
        "  x_train, x_test, y_train, y_test = train_test_split(x_dataset, y_dataset, test_size=0.3, random_state=42)\n",
        "\n",
        "  X = tf.placeholder(tf.float32)\n",
        "  Y = tf.placeholder(tf.float32)\n",
        "\n",
        "  def model(X, w):\n",
        "    terms = []\n",
        "    for i in range(num_coeffs):\n",
        "      term = tf.multiply(w[i], tf.pow(X, i))\n",
        "      terms.append(term)\n",
        "    return tf.add_n(terms)\n",
        "\n",
        "  w = tf.Variable([0.] * num_coeffs, name=\"parameters\")\n",
        "  y_model = model(X, w)\n",
        "  cost = tf.div(tf.add(tf.reduce_sum(tf.square(Y-y_model)),\n",
        "                       tf.multiply(reg_lambda, tf.reduce_sum(tf.square(w)))),\n",
        "                2*x_train.size) # apply regularization\n",
        "  train_op = tf.train.GradientDescentOptimizer(learning_rate).minimize(cost)\n",
        "\n",
        "  with tf.Session() as sess:\n",
        "    init = tf.global_variables_initializer()\n",
        "    sess.run(init)\n",
        "    for reg_lambda in reg_lambda_steps: # evaluating different regularization setting\n",
        "      for epoch in range(training_epochs):\n",
        "        sess.run(train_op, feed_dict={X: x_train, Y: y_train})\n",
        "      final_cost = sess.run(cost, feed_dict={X: x_test, Y:y_test})\n",
        "      w_val = w.eval()\n",
        "      print('coefficients', w_val)\n",
        "      print('reg lambda', reg_lambda)\n",
        "      print('final cost', final_cost)\n",
        "\n",
        "      plt.scatter(x_test, y_test)\n",
        "      \n",
        "      y_predict = 0\n",
        "      for i in range(num_coeffs):\n",
        "        y_predict += w_val[i] * np.power(x_test, i)\n",
        "      plt.scatter(x_test, y_predict)\n",
        "\n",
        "      plt.show()\n"
      ],
      "execution_count": 0,
      "outputs": []
    },
    {
      "cell_type": "code",
      "metadata": {
        "id": "yh_B4WUwhEQd",
        "colab_type": "code",
        "outputId": "94031683-18bd-4a10-b7c8-d53c72c0e2d6",
        "colab": {
          "base_uri": "https://localhost:8080/",
          "height": 974
        }
      },
      "source": [
        "ex5([0., 0.05, 5.])"
      ],
      "execution_count": 0,
      "outputs": [
        {
          "output_type": "stream",
          "text": [
            "coefficients [ 0.16551083 -0.00407954  0.1419617   0.00186849  0.10685883  0.00530513\n",
            "  0.08518125  0.00752386  0.07064064]\n",
            "reg lambda 0.0\n",
            "final cost 0.020486917\n"
          ],
          "name": "stdout"
        },
        {
          "output_type": "display_data",
          "data": {
            "image/png": "[encoded data removed]",
            "text/plain": [
              "<Figure size 432x288 with 1 Axes>"
            ]
          },
          "metadata": {
            "tags": []
          }
        },
        {
          "output_type": "stream",
          "text": [
            "coefficients [ 0.1870968  -0.01292756  0.21102121 -0.00109742  0.16062316  0.00580762\n",
            "  0.12771823  0.01037507  0.10531961]\n",
            "reg lambda 0.05\n",
            "final cost 0.017099502\n"
          ],
          "name": "stdout"
        },
        {
          "output_type": "display_data",
          "data": {
            "image/png": "[encoded data removed]",
            "text/plain": [
              "<Figure size 432x288 with 1 Axes>"
            ]
          },
          "metadata": {
            "tags": []
          }
        },
        {
          "output_type": "stream",
          "text": [
            "coefficients [ 0.17299695 -0.02100638  0.2548994  -0.00436026  0.19458066  0.00561695\n",
            "  0.15378226  0.01232579  0.12582633]\n",
            "reg lambda 5.0\n",
            "final cost 0.01561461\n"
          ],
          "name": "stdout"
        },
        {
          "output_type": "display_data",
          "data": {
            "image/png": "[encoded data removed]",
            "text/plain": [
              "<Figure size 432x288 with 1 Axes>"
            ]
          },
          "metadata": {
            "tags": []
          }
        }
      ]
    },
    {
      "cell_type": "markdown",
      "metadata": {
        "id": "LjdLXVeZJh6d",
        "colab_type": "text"
      },
      "source": [
        "# Example 6"
      ]
    },
    {
      "cell_type": "code",
      "metadata": {
        "id": "ywOgEIF3JmiG",
        "colab_type": "code",
        "colab": {}
      },
      "source": [
        "def ex6():\n",
        "  learning_rate = 0.4\n",
        "  training_epochs = 3000\n",
        "\n",
        "  def sigmoid(x):\n",
        "    return 1. / (1. + np.exp(-x))\n",
        "\n",
        "  x1_label1 = np.random.normal(3, 1, 1000)\n",
        "  x2_label1 = np.random.normal(2, 1, 1000)\n",
        "  x1_label2 = np.random.normal(7, 1, 1000)\n",
        "  x2_label2 = np.random.normal(6, 1, 1000)\n",
        "\n",
        "  x1s = np.append(x1_label1, x1_label2)\n",
        "  x2s = np.append(x2_label1, x2_label2)\n",
        "  ys = np.asarray([0.] * len(x1_label1) + [1.] * len(x1_label2))\n",
        "\n",
        "  X1 = tf.placeholder(tf.float32, shape=(None,), name=\"x1\")\n",
        "  X2 = tf.placeholder(tf.float32, shape=(None,), name=\"x2\")\n",
        "  Y = tf.placeholder(tf.float32, shape=(None,), name=\"y\")\n",
        "  w = tf.Variable([0., 0., 0.], name=\"w\", trainable=True)\n",
        "\n",
        "  y_model = tf.sigmoid(w[2] * X2 + w[1] * X1 + w[0])\n",
        "  cost = tf.reduce_mean(-tf.log(y_model * Y + (1 - y_model) * (1 - Y)))\n",
        "  train_op = tf.train.GradientDescentOptimizer(learning_rate).minimize(cost)\n",
        "\n",
        "  with tf.Session() as sess:\n",
        "    sess.run(tf.global_variables_initializer())\n",
        "    prev_err = 0\n",
        "    prev_epoch = 0\n",
        "    for epoch in range(training_epochs):\n",
        "      err, _ = sess.run([cost, train_op], {X1: x1s, X2: x2s, Y: ys})\n",
        "      #print(epoch, err)\n",
        "      prev_epoch = epoch\n",
        "      if abs(prev_err - err) < 0.00001:\n",
        "        prev_err = err\n",
        "        break\n",
        "      prev_err = err\n",
        "    w_val = sess.run(w, {X1: x1s, X2: x2s, Y: ys})\n",
        "\n",
        "  x1_boundary, x2_boundary = [], []\n",
        "  for x1_test in np.linspace(0, 10, 100):\n",
        "    for x2_test in np.linspace(0, 10, 100):\n",
        "      z = sigmoid(-x2_test*w_val[2] - x1_test*w_val[1] - w_val[0])\n",
        "      if abs(z - 0.5) < 0.01:\n",
        "        x1_boundary.append(x1_test)\n",
        "        x2_boundary.append(x2_test)\n",
        "\n",
        "  print('epoch:', prev_epoch)\n",
        "  print('error:', prev_err)\n",
        "  plt.scatter(x1_boundary, x2_boundary, c='b', marker='o', s=20)\n",
        "  plt.scatter(x1_label1, x2_label1, c='r', marker='x', s=20)\n",
        "  plt.scatter(x1_label2, x2_label2, c='g', marker='1', s=20)\n",
        "  plt.show()"
      ],
      "execution_count": 0,
      "outputs": []
    },
    {
      "cell_type": "code",
      "metadata": {
        "id": "grgKmiMNKoiK",
        "colab_type": "code",
        "outputId": "acb699f1-3e2b-4859-8b06-0e1f3c7ac483",
        "colab": {
          "base_uri": "https://localhost:8080/",
          "height": 303
        }
      },
      "source": [
        "ex6()"
      ],
      "execution_count": 0,
      "outputs": [
        {
          "output_type": "stream",
          "text": [
            "epoch: 1585\n",
            "error: 0.028027786\n"
          ],
          "name": "stdout"
        },
        {
          "output_type": "display_data",
          "data": {
            "image/png": "[encoded data removed]",
            "text/plain": [
              "<Figure size 432x288 with 1 Axes>"
            ]
          },
          "metadata": {
            "tags": []
          }
        }
      ]
    },
    {
      "cell_type": "markdown",
      "metadata": {
        "id": "HrWc-eAA05ao",
        "colab_type": "text"
      },
      "source": [
        "# Example 7"
      ]
    },
    {
      "cell_type": "code",
      "metadata": {
        "id": "qLilfjnh01-X",
        "colab_type": "code",
        "colab": {}
      },
      "source": [
        "def ex7_data(rcount = 100):\n",
        "  # class 1 features\n",
        "  x1_label0 = np.random.normal(1, 1, (rcount, 1)) # feature1\n",
        "  x2_label0 = np.random.normal(1, 1, (rcount, 1)) # feature2\n",
        "\n",
        "  # class 2\n",
        "  x1_label1 = np.random.normal(5, 1, (rcount, 1))\n",
        "  x2_label1 = np.random.normal(4, 1, (rcount, 1))\n",
        "\n",
        "  # class 3\n",
        "  x1_label2 = np.random.normal(8, 1, (rcount, 1))\n",
        "  x2_label2 = np.random.normal(0, 1, (rcount, 1))\n",
        "\n",
        "  return (x1_label0, x2_label0, x1_label1, x2_label1, x1_label2, x2_label2)\n",
        "\n",
        "\n",
        "def ex7_plot(data):\n",
        "  (x1_label0, x2_label0, x1_label1, x2_label1, x1_label2, x2_label2) = data\n",
        "  plt.scatter(x1_label0, x2_label0, c='r', marker='o', s=60)\n",
        "  plt.scatter(x1_label1, x2_label1, c='g', marker='x', s=60)\n",
        "  plt.scatter(x1_label2, x2_label2, c='b', marker='_', s=60)\n",
        "  plt.show()\n",
        "\n",
        "\n",
        "def ex7_arrange_data(data):\n",
        "  (x1_label0, x2_label0, x1_label1, x2_label1, x1_label2, x2_label2) = data\n",
        "\n",
        "  xs_label0 = np.hstack((x1_label0, x2_label0)) # class 1 data, (100, 2)\n",
        "  xs_label1 = np.hstack((x1_label1, x2_label1))\n",
        "  xs_label2 = np.hstack((x1_label2, x2_label2))\n",
        "  xs = np.vstack((xs_label0, xs_label1, xs_label2)) # (300, 2)\n",
        "\n",
        "  # create 3 target variables for 3 categories, (300, 3)\n",
        "  # one-hot encoding\n",
        "  labels = np.matrix([[1., 0., 0.]] * len(x1_label0) + \n",
        "                     [[0., 1., 0.]] * len(x1_label1) + \n",
        "                     [[0., 0., 1.]] * len(x1_label2))\n",
        "  \n",
        "  # shuffle the row indexes\n",
        "  arr = np.arange(xs.shape[0])\n",
        "  np.random.shuffle(arr)\n",
        "  # shuffle the rows\n",
        "  xs = xs[arr, :]\n",
        "  labels = labels[arr, :]\n",
        "\n",
        "  return (xs, labels)\n",
        "\n",
        "\n",
        "def ex7_train(train_data, test_data):\n",
        "  learning_rate = 0.01\n",
        "  training_epochs = 1000\n",
        "  \n",
        "  (x_train, y_train) = ex7_arrange_data(train_data)\n",
        "  (x_test, y_test) = ex7_arrange_data(test_data)\n",
        "\n",
        "  train_size, num_features = x_train.shape\n",
        "  (_, num_labels) = y_train.shape\n",
        "  batch_size = 100\n",
        "\n",
        "  X = tf.placeholder(\"float\", shape=[None, num_features])\n",
        "  Y = tf.placeholder(\"float\", shape=[None, num_labels])\n",
        "  W = tf.Variable(tf.zeros([num_features, num_labels]))\n",
        "  b = tf.Variable(tf.zeros([num_labels]))\n",
        "\n",
        "  y_model = tf.nn.softmax(tf.matmul(X, W) + b)\n",
        "  cost = -tf.reduce_sum(Y * tf.log(y_model))\n",
        "  train_op = tf.train.GradientDescentOptimizer(learning_rate).minimize(cost)\n",
        "\n",
        "  correct_prediction = tf.equal(tf.argmax(y_model, 1), tf.argmax(Y, 1))\n",
        "  accuracy = tf.reduce_mean(tf.cast(correct_prediction, \"float\"))\n",
        "\n",
        "  with tf.Session() as sess:\n",
        "    tf.global_variables_initializer().run()\n",
        "    for step in range(training_epochs * train_size // batch_size):\n",
        "      offset = (step * batch_size) % train_size\n",
        "      batch_xs = x_train[offset:(offset + batch_size), :]\n",
        "      batch_labels = y_train[offset:(offset + batch_size)]\n",
        "      err, _ = sess.run([cost, train_op], feed_dict={X: batch_xs, Y: batch_labels})\n",
        "      # print (step, err)\n",
        "\n",
        "    W_val = sess.run(W)\n",
        "    print('w', W_val)\n",
        "    b_val = sess.run(b)\n",
        "    print('b', b_val)\n",
        "    print(\"accuracy\", accuracy.eval(feed_dict={X: x_test, Y: y_test}))"
      ],
      "execution_count": 0,
      "outputs": []
    },
    {
      "cell_type": "code",
      "metadata": {
        "id": "K0fks28qiU9e",
        "colab_type": "code",
        "outputId": "ee60146c-0662-40a0-c043-ad91176ea8e6",
        "colab": {
          "base_uri": "https://localhost:8080/",
          "height": 336
        }
      },
      "source": [
        "def ex7():\n",
        "  train_data = ex7_data()\n",
        "  ex7_plot(train_data)\n",
        "  test_data = ex7_data(10)\n",
        "  ex7_train(train_data, test_data)\n",
        "\n",
        "ex7()"
      ],
      "execution_count": 0,
      "outputs": [
        {
          "output_type": "display_data",
          "data": {
            "image/png": "[encoded data removed]",
            "text/plain": [
              "<Figure size 432x288 with 1 Axes>"
            ]
          },
          "metadata": {
            "tags": []
          }
        },
        {
          "output_type": "stream",
          "text": [
            "w [[-2.4061122   0.28823653  2.1178758 ]\n",
            " [-0.67002463  1.5133451  -0.843316  ]]\n",
            "b [10.613634  -2.4377291 -8.175909 ]\n",
            "accuracy 1.0\n"
          ],
          "name": "stdout"
        }
      ]
    },
    {
      "cell_type": "markdown",
      "metadata": {
        "id": "qWSJ6WAC3GNL",
        "colab_type": "text"
      },
      "source": [
        "# Example 8 - Learn Keras"
      ]
    },
    {
      "cell_type": "code",
      "metadata": {
        "id": "bHJteHiw3el6",
        "colab_type": "code",
        "colab": {}
      },
      "source": [
        "def ex8():\n",
        "  num_class = 10\n",
        "  \n",
        "  mnist = tf.keras.datasets.mnist\n",
        "  (x_train, y_train), (x_test, y_test) = mnist.load_data()\n",
        "  \n",
        "  image_vector_size = 28*28\n",
        "  x_train = x_train.reshape(x_train.shape[0], image_vector_size)\n",
        "  x_test = x_test.reshape(x_test.shape[0], image_vector_size)\n",
        "  \n",
        "  y_train = keras.utils.to_categorical(y_train, num_class)\n",
        "  y_test = keras.utils.to_categorical(y_test, num_class)\n",
        "  \n",
        "  dataset = tf.data.Dataset.from_tensor_slices(\n",
        "      (tf.cast(x_train/255.0, tf.float32), \n",
        "       tf.cast(y_train,tf.int64)))\n",
        "  \n",
        "  dataset = dataset.shuffle(60000).batch(64)\n",
        "  \n",
        "  mnist_model = keras.Sequential([\n",
        "      keras.layers.Dense(1024, input_shape=(784,)),\n",
        "      keras.layers.Dense(1024),\n",
        "      keras.layers.Dense(10)\n",
        "  ])\n",
        "  \n",
        "  optimizer = tf.train.AdamOptimizer()\n",
        "  loss_history = []\n",
        "  \n",
        "  for i in range(10): # Epochs\n",
        "    print (\"\\nEpoch:\", i)\n",
        "    for (batch, (images, labels)) in enumerate(dataset.take(60000)):\n",
        "      if batch % 100 == 0:\n",
        "        print('.', end='')\n",
        "      with tf.GradientTape() as tape:\n",
        "        logits = mnist_model(images, training=True) # Prediction of the model\n",
        "        loss_value = tf.losses.sparse_softmax_cross_entropy(\n",
        "            tf.argmax(labels, axis = 1), logits)\n",
        "        loss_history.append(loss_value.numpy())\n",
        "        grads = tape.gradient(loss_value, mnist_model.variables)\n",
        "        # Evaluation of gradients\n",
        "        optimizer.apply_gradients(\n",
        "            zip(grads, mnist_model.variables),\n",
        "            global_step=tf.train.get_or_create_global_step())\n",
        "        grads = tape.gradient(loss_value, mnist_model.variables)\n",
        "        optimizer.apply_gradients(\n",
        "            zip(grads, mnist_model.variables),\n",
        "            global_step=tf.train.get_or_create_global_step())"
      ],
      "execution_count": 0,
      "outputs": []
    }
  ]
}