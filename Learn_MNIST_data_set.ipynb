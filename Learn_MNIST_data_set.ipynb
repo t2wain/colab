{
  "nbformat": 4,
  "nbformat_minor": 0,
  "metadata": {
    "colab": {
      "name": "Learn MNIST data set.ipynb",
      "provenance": [],
      "include_colab_link": true
    },
    "kernelspec": {
      "name": "python3",
      "display_name": "Python 3"
    }
  },
  "cells": [
    {
      "cell_type": "markdown",
      "metadata": {
        "id": "view-in-github",
        "colab_type": "text"
      },
      "source": [
        "<a href=\"https://colab.research.google.com/github/t2wain/colab/blob/master/Learn_MNIST_data_set.ipynb\" target=\"_parent\"><img src=\"https://colab.research.google.com/assets/colab-badge.svg\" alt=\"Open In Colab\"/></a>"
      ]
    },
    {
      "cell_type": "code",
      "metadata": {
        "id": "4oVfh3gDPQg7",
        "colab_type": "code",
        "colab": {}
      },
      "source": [
        "import numpy as np\n",
        "import pandas as pd\n",
        "from sklearn import datasets\n",
        "from sklearn.model_selection import train_test_split\n",
        "from sklearn.preprocessing import OneHotEncoder\n",
        "import matplotlib.pyplot as plt\n",
        "import seaborn as sns\n",
        "import tensorflow as tf\n",
        "import random"
      ],
      "execution_count": 0,
      "outputs": []
    },
    {
      "cell_type": "markdown",
      "metadata": {
        "id": "FCZBMVPPU5na",
        "colab_type": "text"
      },
      "source": [
        "# Inspecting data"
      ]
    },
    {
      "cell_type": "code",
      "metadata": {
        "id": "OkjcgVWmQMiB",
        "colab_type": "code",
        "colab": {}
      },
      "source": [
        "digits = datasets.load_digits()"
      ],
      "execution_count": 0,
      "outputs": []
    },
    {
      "cell_type": "code",
      "metadata": {
        "id": "vAgiAhWIRtwy",
        "colab_type": "code",
        "outputId": "66a9c668-0106-4250-c38f-f38ecac4b8f3",
        "colab": {
          "base_uri": "https://localhost:8080/",
          "height": 84
        }
      },
      "source": [
        "print(\"data:\", digits.data.shape, type(digits.data))\n",
        "print(\"target:\", digits.target.shape, type(digits.target))\n",
        "print(\"target_names:\", digits.target_names.shape, type(digits.target_names))\n",
        "print(\"images:\", digits.images.shape, type(digits.images))"
      ],
      "execution_count": 0,
      "outputs": [
        {
          "output_type": "stream",
          "text": [
            "data: (1797, 64) <class 'numpy.ndarray'>\n",
            "target: (1797,) <class 'numpy.ndarray'>\n",
            "target_names: (10,) <class 'numpy.ndarray'>\n",
            "images: (1797, 8, 8) <class 'numpy.ndarray'>\n"
          ],
          "name": "stdout"
        }
      ]
    },
    {
      "cell_type": "code",
      "metadata": {
        "id": "o9BWnNASTpYh",
        "colab_type": "code",
        "outputId": "4be5fae4-d1ff-4a72-a88e-2ba3c9f4e3fc",
        "colab": {
          "base_uri": "https://localhost:8080/",
          "height": 240
        }
      },
      "source": [
        "images_and_labels = list(zip(digits.images, digits.target))\n",
        "for index, (image, label) in enumerate(images_and_labels[:10]):\n",
        "    plt.subplot(2, 5, index + 1)\n",
        "    plt.axis('off')\n",
        "    plt.imshow(image, cmap=plt.cm.gray_r, interpolation='nearest')\n",
        "    plt.title('Training: %i' % label)"
      ],
      "execution_count": 0,
      "outputs": [
        {
          "output_type": "display_data",
          "data": {
            "image/png": "[encoded data removed]",
            "text/plain": [
              "<Figure size 432x288 with 10 Axes>"
            ]
          },
          "metadata": {
            "tags": []
          }
        }
      ]
    },
    {
      "cell_type": "markdown",
      "metadata": {
        "id": "Y97UWz8OV3vb",
        "colab_type": "text"
      },
      "source": [
        "# Example 1"
      ]
    },
    {
      "cell_type": "markdown",
      "metadata": {
        "id": "Ii6ljKYDV65D",
        "colab_type": "text"
      },
      "source": [
        "## Helper methods"
      ]
    },
    {
      "cell_type": "code",
      "metadata": {
        "id": "yLfriGvqV9uM",
        "colab_type": "code",
        "colab": {}
      },
      "source": [
        "def data_gen(X, Y=None, batch_size=1, epochs=1):\n",
        "  X_size, _ = X.shape\n",
        "\n",
        "  for step in range(epochs * X_size // batch_size):\n",
        "    offset = (step * batch_size) % X_size\n",
        "    batch_x = X[offset:(offset + batch_size), :]\n",
        "    batch_y = None if Y is None else Y[offset:(offset + batch_size)]\n",
        "    yield (batch_x, batch_y)"
      ],
      "execution_count": 0,
      "outputs": []
    },
    {
      "cell_type": "code",
      "metadata": {
        "id": "RU4m55J7ln6z",
        "colab_type": "code",
        "colab": {}
      },
      "source": [
        "def build_dnn(num_features, num_labels, hiddens=[]):\n",
        "  \n",
        "  def loss(Y, output):\n",
        "    xentropy = -tf.reduce_sum(Y * tf.log(output), reduction_indices=1)\n",
        "    loss = tf.reduce_mean(xentropy)\n",
        "    return loss\n",
        "\n",
        "  \n",
        "  xdim = num_features\n",
        "  Xin = tf.placeholder(tf.float32, shape=[None, num_features])\n",
        "  Yin = tf.placeholder(tf.float32, shape=[None, num_labels])\n",
        "  \n",
        "  X = Xin; W = None; layers = []; out = None\n",
        "  for idx, ydim in enumerate(hiddens):\n",
        "    W = tf.Variable(tf.truncated_normal([xdim, ydim], stddev=0.1))\n",
        "    b = tf.Variable(tf.truncated_normal([ydim], stddev=0.1))\n",
        "    out = tf.nn.relu6(tf.matmul(X, W) + b)\n",
        "    layers.append({\"W\": W, \"b\": b, \"out\": out, \"W_val\": None, \"b_val\": None})\n",
        "    X = out\n",
        "    xdim = ydim\n",
        "  \n",
        "  if not out is None:\n",
        "    layer_drop = tf.nn.dropout(out, rate=0.5)\n",
        "  \n",
        "  xdim = num_features if W is None else xdim\n",
        "  W = tf.Variable(tf.truncated_normal([xdim, num_labels], stddev=0.1))\n",
        "  b = tf.Variable(tf.truncated_normal([num_labels], stddev=0.1))\n",
        "  out = tf.nn.softmax(tf.matmul(X, W) + b)\n",
        "  layers.append({\"W\": W, \"b\": b, \"out\": out, \"W_val\": None, \"b_val\": None})\n",
        "  \n",
        "  cost = loss(Yin, out)\n",
        "  correct_prediction = tf.equal(tf.argmax(out, 1), tf.argmax(Yin, 1))\n",
        "  accuracy = tf.reduce_mean(tf.cast(correct_prediction, \"float\"))\n",
        "  \n",
        "  return {\"x\": Xin, \"y\": Yin, \"layers\": layers, \n",
        "          \"cost\": cost, \"accuracy\": accuracy, \"out\": out}"
      ],
      "execution_count": 0,
      "outputs": []
    },
    {
      "cell_type": "code",
      "metadata": {
        "colab_type": "code",
        "id": "E-Zi4LkjF_Gs",
        "colab": {}
      },
      "source": [
        "def build_classifier_estimator(num_features, num_labels, hiddens=[]):\n",
        "  is_saved = False\n",
        "  \n",
        "  dnn = build_dnn(num_features, num_labels, hiddens)\n",
        "  y_model = dnn[\"out\"]\n",
        "  cost = dnn[\"cost\"]\n",
        "  accuracy = dnn[\"accuracy\"]\n",
        "  X = dnn[\"x\"]\n",
        "  Y = dnn[\"y\"]\n",
        "\n",
        "  def train(xsample, ysample,  batch_size=1, training_epochs=1, learning_rate=0.001):\n",
        "    train_op = tf.train.GradientDescentOptimizer(learning_rate).minimize(cost)\n",
        "    #train_op = tf.train.AdamOptimizer(learning_rate).minimize(cost)\n",
        "    \n",
        "    with tf.Session() as sess:\n",
        "      if is_saved:\n",
        "        _restoreVars(sess)\n",
        "      else:\n",
        "        sess.run(tf.global_variables_initializer())\n",
        "      for (batch_xs, batch_labels) in data_gen(xsample, ysample,  batch_size, training_epochs):\n",
        "        err, _ = sess.run([cost, train_op], feed_dict={X: batch_xs, Y: batch_labels})\n",
        "      _saveVars(sess)\n",
        "\n",
        "      \n",
        "  def _restoreVars(sess):\n",
        "    for layer in dnn[\"layers\"]:\n",
        "      sess.run(layer[\"W\"].assign(layer[\"W_val\"]))\n",
        "      sess.run(layer[\"b\"].assign(layer[\"b_val\"]))\n",
        "\n",
        "    \n",
        "  def _saveVars(sess):\n",
        "    is_saved = True\n",
        "    for layer in dnn[\"layers\"]:\n",
        "      layer[\"W_val\"] = sess.run(layer[\"W\"])\n",
        "      layer[\"b_val\"] = sess.run(layer[\"b\"])\n",
        "\n",
        "      \n",
        "  def evaluate(xsample, ysample, batch_size=1):\n",
        "    with tf.Session() as sess:\n",
        "      _restoreVars(sess)\n",
        "      cost_total = accuracy_total = step = 0\n",
        "      for (batch_xs, batch_ys) in data_gen(xsample, ysample,  batch_size):\n",
        "        cost_val, accuracy_val = sess.run([cost, accuracy], feed_dict={X: batch_xs, Y: batch_ys})\n",
        "        cost_total += cost_val\n",
        "        accuracy_total += accuracy_val\n",
        "        step += 1\n",
        "      return (cost_val, accuracy_total/step)\n",
        "\n",
        "    \n",
        "  def predict(xdata, labels, batch_size=1):\n",
        "    with tf.Session() as sess:\n",
        "      _restoreVars(sess)\n",
        "      res = [];\n",
        "      for (batch_xs, _) in data_gen(xdata, batch_size=batch_size):\n",
        "        ydata = sess.run(tf.argmax(y_model, 1), feed_dict={X: batch_xs})\n",
        "        res.extend(ydata)\n",
        "      return labels[res]\n",
        "\n",
        "    \n",
        "  return (train, evaluate, predict)"
      ],
      "execution_count": 0,
      "outputs": []
    },
    {
      "cell_type": "code",
      "metadata": {
        "id": "PAS37b0NfoIi",
        "colab_type": "code",
        "colab": {}
      },
      "source": [
        "def one_hot(labels, ydata):\n",
        "  y_target = np.expand_dims(ydata, axis=1)\n",
        "  enc = OneHotEncoder(categories=[labels])\n",
        "  enc.fit(y_target)\n",
        "  return (labels, enc.transform(y_target).toarray())"
      ],
      "execution_count": 0,
      "outputs": []
    },
    {
      "cell_type": "markdown",
      "metadata": {
        "id": "BdTWTZuAWbAP",
        "colab_type": "text"
      },
      "source": [
        "## Example"
      ]
    },
    {
      "cell_type": "code",
      "metadata": {
        "id": "jvbFTWk3WdHF",
        "colab_type": "code",
        "colab": {}
      },
      "source": [
        "def ex(nsample=None):\n",
        "  ds = datasets.load_digits()\n",
        "  \n",
        "  batch_size = 128\n",
        "  learning_rate = 0.0001\n",
        "  hidden_layers = [512,256,128]\n",
        " \n",
        "  if nsample==None:\n",
        "    xsample = ds.data\n",
        "    ysample = ds.target\n",
        "  else:\n",
        "    sel_idx = random.sample(range(1, ds.data.shape[0]), nsample)\n",
        "    xsample = ds.data[sel_idx]\n",
        "    ysample = ds.target[sel_idx]\n",
        "\n",
        "  y_labels, y_dummies = one_hot(ds.target_names, ysample)\n",
        "  \n",
        "  x_train, x_test, y_train, y_test = train_test_split(\n",
        "    xsample, y_dummies, test_size=0.3, random_state=42)\n",
        "\n",
        "  train_size, num_features = x_train.shape\n",
        "  num_labels = ds.target_names.shape[0]\n",
        "  \n",
        "  (_train, _evaluate, _predict) = build_classifier_estimator(\n",
        "      num_features, num_labels, hidden_layers)\n",
        "\n",
        "\n",
        "  def train(epochs=300):\n",
        "    _train(x_train, y_train, batch_size, epochs, learning_rate)\n",
        "\n",
        "\n",
        "  def eval():\n",
        "    (cost_val, accuracy_val) = _evaluate(x_train, y_train, batch_size)\n",
        "    print(\"Train metric:\")\n",
        "    print({\"accuracy\": accuracy_val, \"loss\": cost_val})\n",
        "    \n",
        "    (cost_val, accuracy_val) = _evaluate(x_test, y_test, batch_size)\n",
        "    print(\"Test metric:\")\n",
        "    print({\"accuracy\": accuracy_val, \"loss\": cost_val})\n",
        "\n",
        "\n",
        "  def predict():\n",
        "    y_pred = _predict(x_test, ds.target_names, batch_size)\n",
        "    ydata = y_labels[np.argmax(y_test, axis=1)]\n",
        "    return np.array(list(zip(ydata, y_pred)))\n",
        "\n",
        "\n",
        "  return (train, eval, predict)"
      ],
      "execution_count": 0,
      "outputs": []
    },
    {
      "cell_type": "code",
      "metadata": {
        "id": "_M7keRw4XYKm",
        "colab_type": "code",
        "colab": {}
      },
      "source": [
        "(ex_train, ex_eval, ex_predict) = ex()"
      ],
      "execution_count": 0,
      "outputs": []
    },
    {
      "cell_type": "code",
      "metadata": {
        "id": "ilQY7ZkoLSkc",
        "colab_type": "code",
        "outputId": "1409b64e-5999-46ab-9046-0e2ba1cf8590",
        "colab": {
          "base_uri": "https://localhost:8080/",
          "height": 84
        }
      },
      "source": [
        "ex_train(1000)\n",
        "ex_eval()"
      ],
      "execution_count": 8,
      "outputs": [
        {
          "output_type": "stream",
          "text": [
            "Train metric:\n",
            "{'accuracy': 0.9852430555555556, 'loss': 0.17254516}\n",
            "Test metric:\n",
            "{'accuracy': 0.94921875, 'loss': 0.21186855}\n"
          ],
          "name": "stdout"
        }
      ]
    },
    {
      "cell_type": "code",
      "metadata": {
        "id": "bK9oMygO1yqD",
        "colab_type": "code",
        "colab": {}
      },
      "source": [
        "ex_predict()"
      ],
      "execution_count": 0,
      "outputs": []
    }
  ]
}